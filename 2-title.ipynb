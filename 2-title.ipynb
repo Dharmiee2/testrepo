{
 "cells": [
  {
   "cell_type": "markdown",
   "id": "b9c51432-07fa-4069-89db-4da5a1e192b1",
   "metadata": {},
   "source": [
    " # H1: \"Data Science tools and Ecosystem\""
   ]
  },
  {
   "cell_type": "code",
   "execution_count": null,
   "id": "1515eda7-bc1e-4f3a-b045-4a4f952d540d",
   "metadata": {},
   "outputs": [],
   "source": []
  }
 ],
 "metadata": {
  "kernelspec": {
   "display_name": "Python",
   "language": "python",
   "name": "conda-env-python-py"
  },
  "language_info": {
   "codemirror_mode": {
    "name": "ipython",
    "version": 3
   },
   "file_extension": ".py",
   "mimetype": "text/x-python",
   "name": "python",
   "nbconvert_exporter": "python",
   "pygments_lexer": "ipython3",
   "version": "3.7.12"
  }
 },
 "nbformat": 4,
 "nbformat_minor": 5
}
