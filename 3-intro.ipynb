{
 "cells": [
  {
   "cell_type": "code",
   "execution_count": null,
   "id": "a0ef4ae9-a7db-452e-a867-70f3136d208a",
   "metadata": {},
   "outputs": [],
   "source": [
    "Introduction\n",
    "In this notebook, Data science. Tools and Ecosystem are summarized"
   ]
  }
 ],
 "metadata": {
  "kernelspec": {
   "display_name": "Python",
   "language": "python",
   "name": "conda-env-python-py"
  },
  "language_info": {
   "codemirror_mode": {
    "name": "ipython",
    "version": 3
   },
   "file_extension": ".py",
   "mimetype": "text/x-python",
   "name": "python",
   "nbconvert_exporter": "python",
   "pygments_lexer": "ipython3",
   "version": "3.7.12"
  }
 },
 "nbformat": 4,
 "nbformat_minor": 5
}
